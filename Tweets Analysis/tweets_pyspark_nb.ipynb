{
  "cells": [
    {
      "cell_type": "markdown",
      "metadata": {
        "id": "uhCsGEXD1WKc"
      },
      "source": [
        "# Working with Tweets data\n",
        "Performing EDA and sentiment analysis on tweets data.\n",
        "\n",
        "Data publicly available at https://www.kaggle.com/datasets/kazanova/sentiment140.\n",
        "\n",
        "Follow these steps before running the code in databricks community edition notebook:\n",
        "\n",
        "1. Upload the csv file to DBFS in databricks before running the code.\n",
        "2. Create a cluster and attach it to the notebook\n",
        "\n",
        "**Schema:**\n",
        "\n",
        "1. target: the polarity of the tweet (0 = negative, 2 = neutral, 4 = positive)\n",
        "2. ids: The id of the tweet ( 2087)\n",
        "3. date: the date of the tweet (Sat May 16 23:58:44 UTC 2009)\n",
        "4. flag: The query (lyx). If there is no query, then this value is NO_QUERY.\n",
        "5. user: the user that tweeted (robotickilldozr)\n",
        "6. text: the text of the tweet (Lyx is cool)\n"
      ]
    },
    {
      "cell_type": "markdown",
      "metadata": {
        "id": "qAVSYeGL1t8k"
      },
      "source": [
        "### Install PySpark\n",
        "If you are not running the code in a databricks notebook and don't have PySpark installed on your system."
      ]
    },
    {
      "cell_type": "code",
      "execution_count": 1,
      "metadata": {
        "colab": {
          "base_uri": "https://localhost:8080/"
        },
        "id": "egkhhdU_1pmI",
        "outputId": "f77a76ed-9816-4d63-de0a-57378a101cd5"
      },
      "outputs": [
        {
          "output_type": "stream",
          "name": "stdout",
          "text": [
            "\u001b[33m\r0% [Working]\u001b[0m\r            \rGet:1 http://security.ubuntu.com/ubuntu jammy-security InRelease [129 kB]\n",
            "\u001b[33m\r0% [Connecting to archive.ubuntu.com (185.125.190.82)] [1 InRelease 14.2 kB/129\u001b[0m\r                                                                               \rGet:2 https://cloud.r-project.org/bin/linux/ubuntu jammy-cran40/ InRelease [3,626 B]\n",
            "\u001b[33m\r0% [Connecting to archive.ubuntu.com (185.125.190.82)] [1 InRelease 67.7 kB/129\u001b[0m\u001b[33m\r0% [Connecting to archive.ubuntu.com (185.125.190.82)] [1 InRelease 89.5 kB/129\u001b[0m\u001b[33m\r0% [Waiting for headers] [Connected to r2u.stat.illinois.edu (192.17.190.167)] \u001b[0m\r                                                                               \rHit:3 https://developer.download.nvidia.com/compute/cuda/repos/ubuntu2204/x86_64  InRelease\n",
            "Hit:4 http://archive.ubuntu.com/ubuntu jammy InRelease\n",
            "Get:5 https://r2u.stat.illinois.edu/ubuntu jammy InRelease [6,555 B]\n",
            "Get:6 http://archive.ubuntu.com/ubuntu jammy-updates InRelease [128 kB]\n",
            "Hit:7 https://ppa.launchpadcontent.net/deadsnakes/ppa/ubuntu jammy InRelease\n",
            "Get:8 http://security.ubuntu.com/ubuntu jammy-security/universe amd64 Packages [1,228 kB]\n",
            "Get:9 https://ppa.launchpadcontent.net/graphics-drivers/ppa/ubuntu jammy InRelease [24.3 kB]\n",
            "Get:10 http://security.ubuntu.com/ubuntu jammy-security/main amd64 Packages [2,561 kB]\n",
            "Get:11 http://archive.ubuntu.com/ubuntu jammy-backports InRelease [127 kB]\n",
            "Hit:12 https://ppa.launchpadcontent.net/ubuntugis/ppa/ubuntu jammy InRelease\n",
            "Get:13 https://r2u.stat.illinois.edu/ubuntu jammy/main all Packages [8,619 kB]\n",
            "Get:14 http://archive.ubuntu.com/ubuntu jammy-updates/universe amd64 Packages [1,519 kB]\n",
            "Get:15 https://r2u.stat.illinois.edu/ubuntu jammy/main amd64 Packages [2,646 kB]\n",
            "Get:16 https://ppa.launchpadcontent.net/graphics-drivers/ppa/ubuntu jammy/main amd64 Packages [53.6 kB]\n",
            "Get:17 http://archive.ubuntu.com/ubuntu jammy-updates/main amd64 Packages [2,861 kB]\n",
            "Get:18 http://archive.ubuntu.com/ubuntu jammy-backports/universe amd64 Packages [35.2 kB]\n",
            "Fetched 19.9 MB in 3s (7,119 kB/s)\n",
            "Reading package lists... Done\n",
            "Building dependency tree... Done\n",
            "Reading state information... Done\n",
            "57 packages can be upgraded. Run 'apt list --upgradable' to see them.\n",
            "\u001b[1;33mW: \u001b[0mSkipping acquire of configured file 'main/source/Sources' as repository 'https://r2u.stat.illinois.edu/ubuntu jammy InRelease' does not seem to provide it (sources.list entry misspelt?)\u001b[0m\n",
            "tar: spark-3.2.1-bin-hadoop3.2.tgz: Cannot open: No such file or directory\n",
            "tar: Error is not recoverable: exiting now\n",
            "Requirement already satisfied: pyspark in /usr/local/lib/python3.11/dist-packages (3.5.4)\n",
            "Requirement already satisfied: py4j==0.10.9.7 in /usr/local/lib/python3.11/dist-packages (from pyspark) (0.10.9.7)\n",
            "Requirement already satisfied: py4j in /usr/local/lib/python3.11/dist-packages (0.10.9.7)\n"
          ]
        }
      ],
      "source": [
        "!sudo apt update\n",
        "!apt-get install openjdk-8-jdk-headless -qq > /dev/null\n",
        "#Check this site for the latest download link https://www.apache.org/dyn/closer.lua/spark/spark-3.2.1/spark-3.2.1-bin-hadoop3.2.tgz\n",
        "!wget -q https://dlcdn.apache.org/spark/spark-3.2.1/spark-3.2.1-bin-hadoop3.2.tgz\n",
        "!tar xf spark-3.2.1-bin-hadoop3.2.tgz\n",
        "!pip install -q findspark\n",
        "!pip install pyspark\n",
        "!pip install py4j\n",
        "\n",
        "import os\n",
        "import sys\n",
        "# os.environ[\"JAVA_HOME\"] = \"/usr/lib/jvm/java-8-openjdk-amd64\"\n",
        "# os.environ[\"SPARK_HOME\"] = \"/content/spark-3.2.1-bin-hadoop3.2\"\n",
        "\n",
        "\n",
        "import findspark\n",
        "findspark.init()\n",
        "findspark.find()\n",
        "\n",
        "import pyspark\n",
        "\n",
        "from pyspark.sql import DataFrame, SparkSession\n",
        "from typing import List\n",
        "import pyspark.sql.types as T\n",
        "import pyspark.sql.functions as F"
      ]
    },
    {
      "cell_type": "markdown",
      "metadata": {
        "id": "VZUT-kJ01WKj"
      },
      "source": [
        "### Install Required Packages\n"
      ]
    },
    {
      "cell_type": "code",
      "execution_count": 2,
      "metadata": {
        "colab": {
          "base_uri": "https://localhost:8080/"
        },
        "id": "an2XdWZt1WKl",
        "outputId": "92494a14-bafc-471c-b1e4-1e204ffbaa97"
      },
      "outputs": [
        {
          "output_type": "stream",
          "name": "stdout",
          "text": [
            "Requirement already satisfied: typing-extensions==4.12.2 in /usr/local/lib/python3.11/dist-packages (4.12.2)\n",
            "Requirement already satisfied: nltk==3.9.1 in /usr/local/lib/python3.11/dist-packages (3.9.1)\n",
            "Requirement already satisfied: click in /usr/local/lib/python3.11/dist-packages (from nltk==3.9.1) (8.1.8)\n",
            "Requirement already satisfied: joblib in /usr/local/lib/python3.11/dist-packages (from nltk==3.9.1) (1.4.2)\n",
            "Requirement already satisfied: regex>=2021.8.3 in /usr/local/lib/python3.11/dist-packages (from nltk==3.9.1) (2024.11.6)\n",
            "Requirement already satisfied: tqdm in /usr/local/lib/python3.11/dist-packages (from nltk==3.9.1) (4.67.1)\n"
          ]
        }
      ],
      "source": [
        "!pip install typing-extensions==4.12.2\n",
        "!pip install nltk==3.9.1"
      ]
    },
    {
      "cell_type": "markdown",
      "metadata": {
        "id": "AsHP4gXg1WKo"
      },
      "source": [
        "### Import Modules"
      ]
    },
    {
      "cell_type": "code",
      "execution_count": 3,
      "metadata": {
        "id": "434Jy0lJ1WKp",
        "colab": {
          "base_uri": "https://localhost:8080/"
        },
        "outputId": "8766f521-6f50-4055-e836-d6f3c3844ddf"
      },
      "outputs": [
        {
          "output_type": "stream",
          "name": "stderr",
          "text": [
            "[nltk_data] Downloading package vader_lexicon to /root/nltk_data...\n"
          ]
        },
        {
          "output_type": "execute_result",
          "data": {
            "text/plain": [
              "True"
            ]
          },
          "metadata": {},
          "execution_count": 3
        }
      ],
      "source": [
        "from pyspark.sql import SparkSession\n",
        "from pyspark.sql.functions import udf\n",
        "from pyspark.sql.types import StructType, StructField, StringType, IntegerType\n",
        "from pyspark.sql.functions import col, count, when, desc, length, explode, split, regexp_extract\n",
        "import nltk\n",
        "nltk.download('vader_lexicon')"
      ]
    },
    {
      "cell_type": "markdown",
      "source": [
        "### Define global variables and create PySpark session"
      ],
      "metadata": {
        "id": "cnAFyww4FF0i"
      }
    },
    {
      "cell_type": "code",
      "source": [
        "# Input csv file\n",
        "tweets_csv = \"PATH_TO/tweets_data.csv\"\n",
        "\n",
        "# Intermediate parquet file\n",
        "conf_mat_parquet_file = \"PATH_TO/confusion_matrix_df.parquet\"\n",
        "\n",
        "# Create session\n",
        "spark = SparkSession.builder.appName(\"Tweets Analysis\").getOrCreate()"
      ],
      "metadata": {
        "id": "P_lZAdsiFOo5"
      },
      "execution_count": 9,
      "outputs": []
    },
    {
      "cell_type": "markdown",
      "metadata": {
        "id": "mHH1-6Rh1WKq"
      },
      "source": [
        "### Import CSV and Create DataFrame"
      ]
    },
    {
      "cell_type": "code",
      "execution_count": 10,
      "metadata": {
        "id": "AoEHgYAf1WKr"
      },
      "outputs": [],
      "source": [
        "\n",
        "# Define the schema explicitly\n",
        "df_schema = StructType([\n",
        "    StructField(\"target\", IntegerType(), True),\n",
        "    StructField(\"id\", IntegerType(), True),\n",
        "    StructField(\"date\", StringType(), True),\n",
        "    StructField(\"flag\", StringType(), True),\n",
        "    StructField(\"user\", StringType(), True),\n",
        "    StructField(\"text\", StringType(), True)\n",
        "])"
      ]
    },
    {
      "cell_type": "code",
      "execution_count": 11,
      "metadata": {
        "id": "v6CMKYwr1WKs"
      },
      "outputs": [],
      "source": [
        "# Read CSV file into a PySpark DataFrame\n",
        "tweets_df = spark.read.csv( tweets_csv, header=True,              # Ensures the first row is treated as headers\n",
        "    schema=df_schema          # Automatically infers column data types\n",
        ")"
      ]
    },
    {
      "cell_type": "markdown",
      "metadata": {
        "id": "DJjZlLlD1WKt"
      },
      "source": [
        "### Exploratory Data Analysis"
      ]
    },
    {
      "cell_type": "code",
      "execution_count": null,
      "metadata": {
        "id": "B_GjIXSv1WKu",
        "colab": {
          "base_uri": "https://localhost:8080/"
        },
        "outputId": "8938eedb-c552-4e3e-a753-3de769f16da9"
      },
      "outputs": [
        {
          "output_type": "stream",
          "name": "stdout",
          "text": [
            "root\n",
            " |-- target: integer (nullable = true)\n",
            " |-- id: integer (nullable = true)\n",
            " |-- date: string (nullable = true)\n",
            " |-- flag: string (nullable = true)\n",
            " |-- user: string (nullable = true)\n",
            " |-- text: string (nullable = true)\n",
            "\n",
            "Distribution of Target Sentiment:\n",
            "+------+------+\n",
            "|target| count|\n",
            "+------+------+\n",
            "|     4|800000|\n",
            "|     0|799999|\n",
            "+------+------+\n",
            "\n",
            "Number of unique users: 659775\n",
            "Null values in each column:\n",
            "+------+------+----+----+----+----+\n",
            "|target|    id|date|flag|user|text|\n",
            "+------+------+----+----+----+----+\n",
            "|     0|432913|   0|   0|   0|   0|\n",
            "+------+------+----+----+----+----+\n",
            "\n"
          ]
        }
      ],
      "source": [
        "# -----------------------------------------------\n",
        "# 1. General Summary\n",
        "# -----------------------------------------------\n",
        "# Display schema and preview data\n",
        "tweets_df.printSchema()\n",
        "\n",
        "# Target label values distribution\n",
        "print(\"Distribution of Target Sentiment:\")\n",
        "tweets_df.groupBy(\"target\").count().orderBy(desc(\"count\")).show()\n",
        "\n",
        "# Unique users\n",
        "unique_users = tweets_df.select(\"user\").distinct().count()\n",
        "print(f\"Number of unique users: {unique_users}\")\n",
        "\n",
        "# Null value counts\n",
        "null_counts = tweets_df.select([count(when(col(c).isNull(), c)).alias(c) for c in tweets_df.columns])\n",
        "print(\"Null values in each column:\")\n",
        "null_counts.show()\n"
      ]
    },
    {
      "cell_type": "code",
      "execution_count": null,
      "metadata": {
        "id": "BCT-ptP61WKv",
        "colab": {
          "base_uri": "https://localhost:8080/"
        },
        "outputId": "e27be7b1-20fc-46af-9cc3-c10e32cd1fad"
      },
      "outputs": [
        {
          "output_type": "stream",
          "name": "stdout",
          "text": [
            "Tweet Text Length Statistics:\n",
            "+-------+-----------------+\n",
            "|summary|      text_length|\n",
            "+-------+-----------------+\n",
            "|  count|          1599999|\n",
            "|   mean| 74.0417337760836|\n",
            "| stddev|36.38798911935337|\n",
            "|    min|                6|\n",
            "|    max|              359|\n",
            "+-------+-----------------+\n",
            "\n",
            "\n",
            "Top Hashtags:\n",
            "+------------+-----+\n",
            "|    hashtags|count|\n",
            "+------------+-----+\n",
            "|followfriday| 2114|\n",
            "|          fb| 1746|\n",
            "| squarespace|  888|\n",
            "|          FF|  586|\n",
            "|           1|  519|\n",
            "|         seb|  499|\n",
            "|FollowFriday|  463|\n",
            "| musicmonday|  400|\n",
            "|          ff|  399|\n",
            "|iranelection|  359|\n",
            "+------------+-----+\n",
            "only showing top 10 rows\n",
            "\n"
          ]
        }
      ],
      "source": [
        "# -----------------------------------------------\n",
        "# 2. Text Analysis\n",
        "# -----------------------------------------------\n",
        "\n",
        "# Add tweet length column\n",
        "tweets_text_df = tweets_df.withColumn(\"text_length\", length(col(\"text\")))\n",
        "\n",
        "# Analyze tweet text lengths\n",
        "print(\"Tweet Text Length Statistics:\")\n",
        "tweets_text_df.select(\"text_length\").describe().show()\n",
        "\n",
        "# Extract hashtags\n",
        "tweets_text_df = tweets_text_df.withColumn(\"hashtags\", split(col(\"text\"), \" \"))\n",
        "tweets_text_df = tweets_text_df.withColumn(\"hashtags\", explode(col(\"hashtags\")))\n",
        "tweets_text_df = tweets_text_df.withColumn(\"hashtags\", regexp_extract(col(\"hashtags\"), r\"#(\\w+)\", 1))\n",
        "\n",
        "# Top hashtags\n",
        "print(\"\\nTop Hashtags:\")\n",
        "tweets_text_df.filter(col(\"hashtags\") != \"\").groupBy(\"hashtags\").count().orderBy(desc(\"count\")).show(10)\n"
      ]
    },
    {
      "cell_type": "code",
      "execution_count": null,
      "metadata": {
        "id": "6dne9Yfq1WKw",
        "colab": {
          "base_uri": "https://localhost:8080/"
        },
        "outputId": "657c3502-5553-41d8-cfbe-e4b269724fd9"
      },
      "outputs": [
        {
          "output_type": "stream",
          "name": "stdout",
          "text": [
            "Top Users by Number of Tweets:\n",
            "+---------------+-----+\n",
            "|           user|count|\n",
            "+---------------+-----+\n",
            "|       lost_dog|  549|\n",
            "|        webwoke|  345|\n",
            "|       tweetpet|  310|\n",
            "|SallytheShizzle|  281|\n",
            "|    VioletsCRUK|  279|\n",
            "|    mcraddictal|  276|\n",
            "|       tsarnick|  248|\n",
            "|    what_bugs_u|  246|\n",
            "|    Karen230683|  238|\n",
            "|      DarkPiano|  236|\n",
            "+---------------+-----+\n",
            "only showing top 10 rows\n",
            "\n"
          ]
        }
      ],
      "source": [
        "# -----------------------------------------------\n",
        "# 3. User Analysis\n",
        "# -----------------------------------------------\n",
        "\n",
        "# Tweets per user\n",
        "print(\"Top Users by Number of Tweets:\")\n",
        "tweets_df.groupBy(\"user\").count().orderBy(desc(\"count\")).show(10)\n"
      ]
    },
    {
      "cell_type": "code",
      "execution_count": null,
      "metadata": {
        "id": "xoG_IkoQ1WKw",
        "colab": {
          "base_uri": "https://localhost:8080/"
        },
        "outputId": "e8d0c318-6ecb-43d5-9ec7-9d7281164c7b"
      },
      "outputs": [
        {
          "output_type": "stream",
          "name": "stdout",
          "text": [
            "Tweet Distribution by Hour of Day:\n",
            "+----+-----+\n",
            "|hour|count|\n",
            "+----+-----+\n",
            "|  23|84750|\n",
            "|   7|83654|\n",
            "|   0|80865|\n",
            "|   6|80852|\n",
            "|   5|78623|\n",
            "|  22|78327|\n",
            "|   4|76995|\n",
            "|   8|76287|\n",
            "|   1|75268|\n",
            "|   3|74253|\n",
            "|   2|73991|\n",
            "|  21|68964|\n",
            "|   9|67278|\n",
            "|  11|61009|\n",
            "|  10|60689|\n",
            "|  19|57722|\n",
            "|  20|57059|\n",
            "|  16|55720|\n",
            "|  18|53485|\n",
            "|  17|51843|\n",
            "+----+-----+\n",
            "only showing top 20 rows\n",
            "\n"
          ]
        }
      ],
      "source": [
        "# -----------------------------------------------\n",
        "# 4. Temporal Analysis\n",
        "# -----------------------------------------------\n",
        "\n",
        "# Extract hour from the timestamp\n",
        "tweets_temp_df = tweets_df.withColumn(\"hour\", regexp_extract(col(\"date\"), r\"\\d{2}:\\d{2}:\\d{2}\", 0).substr(1, 2).cast(\"integer\"))\n",
        "\n",
        "# Tweets by hour of day\n",
        "print(\"Tweet Distribution by Hour of Day:\")\n",
        "tweets_temp_df.groupBy(\"hour\").count().orderBy(desc(\"count\")).show()\n"
      ]
    },
    {
      "cell_type": "code",
      "execution_count": null,
      "metadata": {
        "id": "nFcBSnR71WKx",
        "colab": {
          "base_uri": "https://localhost:8080/"
        },
        "outputId": "1b975635-ebec-4526-a9ae-0619eb155190"
      },
      "outputs": [
        {
          "output_type": "stream",
          "name": "stdout",
          "text": [
            "+---------------+-------------+-----+\n",
            "|           user|     mentions|count|\n",
            "+---------------+-------------+-----+\n",
            "|     19fischi75|   Impala_Guy|   83|\n",
            "|SallytheShizzle|   OfficialAS|   78|\n",
            "|     Impala_Guy|   19fischi75|   68|\n",
            "|      keren4562|     tommcfly|   65|\n",
            "|        Recamel| TheSUPERGIRL|   59|\n",
            "|     QueenBxoxo|    xbllygbsn|   56|\n",
            "|  Jeff_Hardyfan|   mileycyrus|   55|\n",
            "|      karinb_za|      astynes|   52|\n",
            "|   sierrabardot|   mileycyrus|   51|\n",
            "|     sebby_peek|amazingphoebe|   45|\n",
            "+---------------+-------------+-----+\n",
            "only showing top 10 rows\n",
            "\n"
          ]
        }
      ],
      "source": [
        "# -----------------------------------------------\n",
        "# 5. User mentions Code\n",
        "# -----------------------------------------------\n",
        "\n",
        "# Create a user-interaction network based on mentions in tweets.\n",
        "tweets_mentions_df = tweets_df.withColumn(\"mentions\", regexp_extract(col(\"text\"), r\"@(\\w+)\", 1))\n",
        "mention_edges = tweets_mentions_df.filter(col(\"mentions\") != \"\").select(\"user\", \"mentions\")\n",
        "\n",
        "mention_edges.groupBy(\"user\", \"mentions\").count().orderBy(desc(\"count\")).show(10)"
      ]
    },
    {
      "cell_type": "markdown",
      "metadata": {
        "id": "yZkB0t871WKx"
      },
      "source": [
        "### Sentiment Analysis\n",
        "Analyzing tweets based on the positivity and negativity of words, along with semantic meaning of the sentence."
      ]
    },
    {
      "cell_type": "code",
      "execution_count": 12,
      "metadata": {
        "id": "RSbnqIoa1WKy"
      },
      "outputs": [],
      "source": [
        "\n",
        "from nltk.sentiment.vader import SentimentIntensityAnalyzer\n",
        "from pyspark.sql.functions import udf\n",
        "from pyspark.sql.types import IntegerType\n",
        "\n",
        "# Initialize VADER Sentiment Analyzer\n",
        "analyzer = SentimentIntensityAnalyzer()\n",
        "\n",
        "# Define UDF for VADER Sentiment Analysis\n",
        "def vader_sentiment(text):\n",
        "    if not text or not isinstance(text, str):\n",
        "        return 3  # Neutral fallback\n",
        "    scores = analyzer.polarity_scores(text)\n",
        "    compound = scores['compound']\n",
        "    # Convert compound score to a rating (1 to 5)\n",
        "\n",
        "    if compound < 0:\n",
        "        return 0  # Negative\n",
        "\n",
        "    elif compound == 0:\n",
        "        return 1  # Neutral\n",
        "\n",
        "    else:\n",
        "        return 4  # Positive\n",
        "\n",
        "# Register UDF\n",
        "vader_udf = udf(vader_sentiment, IntegerType())\n",
        "\n",
        "# Apply UDF to DataFrame\n",
        "tweets_df = tweets_df.withColumn(\"sentiment_rating\", vader_udf(col(\"text\")))"
      ]
    },
    {
      "cell_type": "markdown",
      "metadata": {
        "id": "HO-NWvN01WKy"
      },
      "source": [
        "## Performance Evaluation\n",
        "Calculate key metrics such as Recall, Precision, and Confusion matrix to evaluate the model's performance.\n",
        "\n",
        "### Mapping neutral values before evaluation\n",
        "The actual label doesn't have any neutral values. So, to avoid skewing the predicted data and incorporate all rows for performance evaluation, it is best to replace the predicted neutral values with their actual values."
      ]
    },
    {
      "cell_type": "code",
      "execution_count": 13,
      "metadata": {
        "id": "ZXZnM4r_1WKz"
      },
      "outputs": [],
      "source": [
        "from pyspark.sql import functions as F\n",
        "\n",
        "tweets_df = tweets_df.withColumn(\n",
        "    \"predicted\",\n",
        "    F.when((F.col(\"target\") == 0) & (F.col(\"sentiment_rating\") == 1), 0)\n",
        "     .when((F.col(\"target\") == 4) & (F.col(\"sentiment_rating\") == 1), 4)\n",
        "     .otherwise(F.col(\"sentiment_rating\"))  # Keep existing predicted values for other rows\n",
        ")\n",
        "\n",
        "# Drop unnecessary columns to reduce data size\n",
        "tweets_df = tweets_df.drop(\"text\", \"id\", \"date\", \"flag\", \"user\", \"sentiment_rating\")"
      ]
    },
    {
      "cell_type": "markdown",
      "source": [
        "### Create confusion_matrix and write as a parquet file\n",
        "Spark performs lazy processing: a lot of commands are chained and only executed when result is requested. So it is better to write the small confusion matrix file and read that file for further use. Otherwise all the commands chained to create the confusion_matrix dataframe will be executed every time confusion_matrix dataframe is referenced/ called."
      ],
      "metadata": {
        "id": "RoHvGJtleK8L"
      }
    },
    {
      "cell_type": "code",
      "source": [
        "# Create confusion matrix counts\n",
        "confusion_matrix = (\n",
        "    tweets_df.groupBy(\"target\", \"predicted\")\n",
        "    .count()\n",
        "    .withColumnRenamed(\"count\", \"value\")\n",
        ")\n",
        "\n",
        "confusion_matrix.write.mode(\"overwrite\").parquet(conf_mat_parquet_file)\n",
        "\n",
        "print(\"Confusion matrix file written successfully\")"
      ],
      "metadata": {
        "colab": {
          "base_uri": "https://localhost:8080/"
        },
        "id": "k8BP5s2wdhc9",
        "outputId": "7b0954f5-7bf5-49b9-da00-b422e51d8a41"
      },
      "execution_count": 16,
      "outputs": [
        {
          "output_type": "stream",
          "name": "stdout",
          "text": [
            "Confusion matrix file written successfully\n"
          ]
        }
      ]
    },
    {
      "cell_type": "markdown",
      "source": [
        "### Read file and display TP, FN, FP and TN"
      ],
      "metadata": {
        "id": "BoL3hc46ePmg"
      }
    },
    {
      "cell_type": "code",
      "execution_count": 15,
      "metadata": {
        "id": "ktTfdfLv1WK2",
        "colab": {
          "base_uri": "https://localhost:8080/"
        },
        "outputId": "f2c7a0e4-806e-44ab-d5af-eb9709122fab"
      },
      "outputs": [
        {
          "output_type": "stream",
          "name": "stdout",
          "text": [
            "+------+---------+------+\n",
            "|target|predicted| value|\n",
            "+------+---------+------+\n",
            "|     4|        0| 81469|\n",
            "|     0|        0|545519|\n",
            "|     4|        4|718531|\n",
            "|     0|        4|254480|\n",
            "+------+---------+------+\n",
            "\n",
            "+------+------+------+-----+\n",
            "|    TP|    TN|    FP|   FN|\n",
            "+------+------+------+-----+\n",
            "|718531|545519|254480|81469|\n",
            "+------+------+------+-----+\n",
            "\n"
          ]
        }
      ],
      "source": [
        "confusion_matrix = spark.read.parquet(conf_mat_parquet_file)\n",
        "\n",
        "confusion_matrix.show()\n",
        "\n",
        "# Define positive and negative labels\n",
        "positive_label = 4\n",
        "negative_label = 0\n",
        "\n",
        "# confusion_matrix.cache()\n",
        "\n",
        "# Extract TP, TN, FP, FN\n",
        "metrics_df = confusion_matrix.groupBy().agg(\n",
        "    F.sum(F.when((F.col(\"target\") == positive_label) & (F.col(\"predicted\") == positive_label), F.col(\"value\"))).alias(\"TP\"),\n",
        "    F.sum(F.when((F.col(\"target\") == negative_label) & (F.col(\"predicted\") == negative_label), F.col(\"value\"))).alias(\"TN\"),\n",
        "    F.sum(F.when((F.col(\"target\") == negative_label) & (F.col(\"predicted\") == positive_label), F.col(\"value\"))).alias(\"FP\"),\n",
        "    F.sum(F.when((F.col(\"target\") == positive_label) & (F.col(\"predicted\") == negative_label), F.col(\"value\"))).alias(\"FN\")\n",
        ")\n",
        "\n",
        "metrics_df.show()"
      ]
    },
    {
      "cell_type": "markdown",
      "metadata": {
        "id": "5VQ52x-a1WK1"
      },
      "source": [
        "#### Precision, Recall, F1 and Accuracy"
      ]
    },
    {
      "cell_type": "code",
      "source": [
        "# Calculate metrics\n",
        "metrics_df = metrics_df.withColumn(\"Precision\", F.round(F.col(\"TP\") / (F.col(\"TP\") + F.col(\"FP\")), 3))\n",
        "metrics_df = metrics_df.withColumn(\"Recall\", F.round(F.col(\"TP\") / (F.col(\"TP\") + F.col(\"FN\")), 3))\n",
        "metrics_df = metrics_df.withColumn(\"F1\", F.round((2 * F.col(\"Precision\") * F.col(\"Recall\")) / (F.col(\"Precision\") + F.col(\"Recall\")), 3))\n",
        "metrics_df = metrics_df.withColumn(\"Accuracy\", F.round((F.col(\"TP\") + F.col(\"TN\")) / (F.col(\"TP\") + F.col(\"TN\") + F.col(\"FP\") + F.col(\"FN\")), 3))\n",
        "\n",
        "metrics_df.show()"
      ],
      "metadata": {
        "colab": {
          "base_uri": "https://localhost:8080/"
        },
        "id": "Lb_5L_YNaKFG",
        "outputId": "708ed34a-5008-4188-bec2-ebe9aec420d5"
      },
      "execution_count": 17,
      "outputs": [
        {
          "output_type": "stream",
          "name": "stdout",
          "text": [
            "+------+------+------+-----+---------+------+----+--------+\n",
            "|    TP|    TN|    FP|   FN|Precision|Recall|  F1|Accuracy|\n",
            "+------+------+------+-----+---------+------+----+--------+\n",
            "|718531|545519|254480|81469|    0.738| 0.898|0.81|    0.79|\n",
            "+------+------+------+-----+---------+------+----+--------+\n",
            "\n"
          ]
        }
      ]
    },
    {
      "cell_type": "markdown",
      "source": [
        "### Plot values"
      ],
      "metadata": {
        "id": "5q7VX9lkoNwG"
      }
    },
    {
      "cell_type": "code",
      "source": [
        "import matplotlib.pyplot as plt\n",
        "# Convert metrics_df to Pandas DataFrame\n",
        "metrics_pd = metrics_df.select(\"Precision\", \"Recall\", \"F1\", \"Accuracy\").toPandas()\n",
        "\n",
        "# Extract the metrics values from the DataFrame (only the first row)\n",
        "metrics_values = metrics_pd.iloc[0]\n",
        "\n",
        "# Create a bar chart\n",
        "plt.figure(figsize=(4, 3))\n",
        "plt.bar(metrics_values.index, metrics_values.values, color='skyblue')\n",
        "\n",
        "# Add title and labels\n",
        "plt.title('Classification Metrics', fontsize=16)\n",
        "plt.xlabel('Metrics', fontsize=12)\n",
        "plt.ylabel('Values', fontsize=12)\n",
        "\n",
        "# Display the chart\n",
        "plt.tight_layout()\n",
        "plt.show()"
      ],
      "metadata": {
        "colab": {
          "base_uri": "https://localhost:8080/",
          "height": 306
        },
        "id": "IuPmhPAhoL9O",
        "outputId": "a88b7c7a-18b8-46d1-bb7c-2c726ba50f7d"
      },
      "execution_count": 18,
      "outputs": [
        {
          "output_type": "display_data",
          "data": {
            "text/plain": [
              "<Figure size 400x300 with 1 Axes>"
            ],
            "image/png": "[encoded data removed]"
          },
          "metadata": {}
        }
      ]
    },
    {
      "cell_type": "markdown",
      "source": [
        "### Interpreting Results:\n",
        "Model has a higher recall and a lower precision. That means the VADER model is better at correctly predicting tweets with a positive sentiment score."
      ],
      "metadata": {
        "id": "1UapUtR3SUf2"
      }
    },
    {
      "cell_type": "code",
      "source": [],
      "metadata": {
        "id": "H_L5WZAHSXTC"
      },
      "execution_count": null,
      "outputs": []
    }
  ],
  "metadata": {
    "application/vnd.databricks.v1+notebook": {
      "computePreferences": null,
      "dashboards": [],
      "environmentMetadata": {
        "base_environment": "",
        "client": "1"
      },
      "language": "python",
      "notebookMetadata": {
        "pythonIndentUnit": 4
      },
      "notebookName": "Tweets ML Project",
      "widgets": {}
    },
    "colab": {
      "provenance": [],
      "collapsed_sections": [
        "DJjZlLlD1WKt"
      ]
    },
    "kernelspec": {
      "display_name": "Python 3",
      "name": "python3"
    },
    "language_info": {
      "name": "python"
    }
  },
  "nbformat": 4,
  "nbformat_minor": 0
}